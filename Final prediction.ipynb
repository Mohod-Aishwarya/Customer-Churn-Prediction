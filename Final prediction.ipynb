{
 "cells": [
  {
   "cell_type": "code",
   "execution_count": 22,
   "id": "18007db8",
   "metadata": {},
   "outputs": [],
   "source": [
    "import os\n",
    "import numpy as np\n",
    "from numpy import median\n",
    "import pandas as pd\n",
    "from sklearn.preprocessing import OneHotEncoder\n",
    "from sklearn.preprocessing import RobustScaler\n",
    "from sklearn.ensemble import VotingClassifier"
   ]
  },
  {
   "cell_type": "code",
   "execution_count": 23,
   "id": "54137715",
   "metadata": {},
   "outputs": [],
   "source": [
    "#load the model and preprocess\n",
    "import pickle\n",
    "model = pickle.load(open(\"model.pickle\",\"rb\"))\n",
    "transformers = pickle.load(open(\"transformer.pickle\",\"rb\"))"
   ]
  },
  {
   "cell_type": "code",
   "execution_count": 24,
   "id": "9011e9c1",
   "metadata": {},
   "outputs": [
    {
     "data": {
      "text/html": [
       "<div>\n",
       "<style scoped>\n",
       "    .dataframe tbody tr th:only-of-type {\n",
       "        vertical-align: middle;\n",
       "    }\n",
       "\n",
       "    .dataframe tbody tr th {\n",
       "        vertical-align: top;\n",
       "    }\n",
       "\n",
       "    .dataframe thead th {\n",
       "        text-align: right;\n",
       "    }\n",
       "</style>\n",
       "<table border=\"1\" class=\"dataframe\">\n",
       "  <thead>\n",
       "    <tr style=\"text-align: right;\">\n",
       "      <th></th>\n",
       "      <th>CreditScore</th>\n",
       "      <th>Geography</th>\n",
       "      <th>Gender</th>\n",
       "      <th>Age</th>\n",
       "      <th>Tenure</th>\n",
       "      <th>Balance</th>\n",
       "      <th>NumOfProducts</th>\n",
       "      <th>HasCrCard</th>\n",
       "      <th>IsActiveMember</th>\n",
       "      <th>EstimatedSalary</th>\n",
       "    </tr>\n",
       "  </thead>\n",
       "  <tbody>\n",
       "    <tr>\n",
       "      <th>0</th>\n",
       "      <td>725</td>\n",
       "      <td>France</td>\n",
       "      <td>Female</td>\n",
       "      <td>33</td>\n",
       "      <td>4</td>\n",
       "      <td>0</td>\n",
       "      <td>1</td>\n",
       "      <td>1</td>\n",
       "      <td>1</td>\n",
       "      <td>67879.8</td>\n",
       "    </tr>\n",
       "  </tbody>\n",
       "</table>\n",
       "</div>"
      ],
      "text/plain": [
       "  CreditScore Geography  Gender Age Tenure Balance NumOfProducts HasCrCard  \\\n",
       "0         725    France  Female  33      4       0             1         1   \n",
       "\n",
       "  IsActiveMember EstimatedSalary  \n",
       "0              1         67879.8  "
      ]
     },
     "execution_count": 24,
     "metadata": {},
     "output_type": "execute_result"
    }
   ],
   "source": [
    "#data = [655,'Germany','Female',46,7,137145.12,1,'Yes','No',115146.4]\n",
    "#data=[411,'France','Male',29,0,59697.17,2,1,1,53483.21]\n",
    "#data=[740,'Germany','Male',33,2,126524.11,1,1,0,136869.31]\n",
    "data=[725,'France','Female',33,4,0,1,1,1,67879.8]\n",
    "data  = pd.DataFrame(data).T\n",
    "data.columns = [\"CreditScore\",\"Geography\",\"Gender\",\"Age\",\"Tenure\",\"Balance\",\"NumOfProducts\",\"HasCrCard\",\"IsActiveMember\",\"EstimatedSalary\"]\n",
    "data"
   ]
  },
  {
   "cell_type": "code",
   "execution_count": 25,
   "id": "ecf53754",
   "metadata": {},
   "outputs": [],
   "source": [
    "def prep_pred(data):\n",
    "    if(data['HasCrCard'][0] == 'Yes'):\n",
    "        data['HasCrCard'][0]= 1\n",
    "    else:\n",
    "        data['HasCrCard'][0]= 0\n",
    "    \n",
    "    if(data['IsActiveMember'][0] == 'Yes'):\n",
    "        data['IsActiveMember'][0]= 1\n",
    "    else:\n",
    "        data['IsActiveMember'][0]= 0\n",
    "        \n",
    "    geo = []\n",
    "    if(data['Geography'][0] == \"France\"):\n",
    "        geo = [0.0,1.0,0.0]\n",
    "    elif(data['Geography'][0] == \"Spain\"):\n",
    "        geo = [0.0,0.0,1.0]\n",
    "    elif(data['Geography'][0] == \"Germany\"):\n",
    "        geo = [1.0,0.0,0.0]\n",
    "    \n",
    "    gender = []\n",
    "    if(data['Gender'][0] == 'Female'):\n",
    "        gender = [0.0,1.0]\n",
    "    elif(data['Gender'][0] == 'Male'):\n",
    "        gender = [1.0,0.0]\n",
    "        \n",
    "    \n",
    "    onhot_data = geo + gender\n",
    "    onhot_data = pd.DataFrame(onhot_data).T\n",
    "    onhot_data.columns = ['Geography_Germany','Geography_France','Geography_Spain','Gender_Male','Gender_Female']\n",
    "    data = data.join(onhot_data)\n",
    "    \n",
    "    cat_df = data[[\"Geography_Germany\", \"Geography_France\",\"Geography_Spain\", \"Gender_Male\",\"Gender_Female\" ,\"HasCrCard\",\"IsActiveMember\"]]\n",
    "    \n",
    "    X= data.drop(labels=[\"Geography_France\",\"Geography_Germany\",\"Geography_Spain\", \"Gender_Female\",\"Gender_Male\" ,\"HasCrCard\",\"IsActiveMember\",\"Geography\",\"Gender\"],axis=1)\n",
    "    cols = X.columns\n",
    "    index = X.index\n",
    "    X = transformers.transform(X)\n",
    "    X = pd.DataFrame(X, columns = cols, index = index)\n",
    "    X = pd.concat([X,cat_df], axis = 1)\n",
    "    \n",
    "    prediction_val = []\n",
    "    for i in range(len(X.columns)):\n",
    "        prediction_val.append(X.iloc[0][i])\n",
    "    prediction_val = [prediction_val]\n",
    "    return prediction_val"
   ]
  },
  {
   "cell_type": "code",
   "execution_count": 26,
   "id": "5f14892d",
   "metadata": {},
   "outputs": [
    {
     "name": "stdout",
     "output_type": "stream",
     "text": [
      "Will customer leave the bank?\n",
      "No, the customer is happy with bank services.\n",
      "\n",
      "\n",
      "---------------------------------------------------------\n"
     ]
    },
    {
     "name": "stderr",
     "output_type": "stream",
     "text": [
      "/home/hp/tensorflow_files/virtualenv/lib/python3.8/site-packages/sklearn/base.py:450: UserWarning: X does not have valid feature names, but LogisticRegression was fitted with feature names\n",
      "  warnings.warn(\n",
      "/home/hp/tensorflow_files/virtualenv/lib/python3.8/site-packages/sklearn/base.py:450: UserWarning: X does not have valid feature names, but DecisionTreeClassifier was fitted with feature names\n",
      "  warnings.warn(\n",
      "/home/hp/tensorflow_files/virtualenv/lib/python3.8/site-packages/sklearn/base.py:450: UserWarning: X does not have valid feature names, but KNeighborsClassifier was fitted with feature names\n",
      "  warnings.warn(\n",
      "/home/hp/tensorflow_files/virtualenv/lib/python3.8/site-packages/sklearn/base.py:450: UserWarning: X does not have valid feature names, but SVC was fitted with feature names\n",
      "  warnings.warn(\n",
      "/home/hp/tensorflow_files/virtualenv/lib/python3.8/site-packages/sklearn/base.py:450: UserWarning: X does not have valid feature names, but GaussianNB was fitted with feature names\n",
      "  warnings.warn(\n"
     ]
    }
   ],
   "source": [
    "y=prep_pred(data)\n",
    "#prediction\n",
    "pred=model.predict(y)\n",
    "prediction=pred[0]\n",
    "#print(\"Predicted Class:\", prediction)\n",
    "\n",
    "print(\"Will customer leave the bank?\")\n",
    "if prediction == 1:\n",
    "  print('Yes, the customer will leave the bank soon.')\n",
    "elif prediction == 0:\n",
    "  print('No, the customer is happy with bank services.')\n",
    "print(\"\\n\") \n",
    "print(\"---------------------------------------------------------\")"
   ]
  },
  {
   "cell_type": "code",
   "execution_count": null,
   "id": "e67161e0",
   "metadata": {},
   "outputs": [],
   "source": []
  }
 ],
 "metadata": {
  "kernelspec": {
   "display_name": "Python 3 (ipykernel)",
   "language": "python",
   "name": "python3"
  },
  "language_info": {
   "codemirror_mode": {
    "name": "ipython",
    "version": 3
   },
   "file_extension": ".py",
   "mimetype": "text/x-python",
   "name": "python",
   "nbconvert_exporter": "python",
   "pygments_lexer": "ipython3",
   "version": "3.8.10"
  }
 },
 "nbformat": 4,
 "nbformat_minor": 5
}
